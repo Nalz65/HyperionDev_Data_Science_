{
 "cells": [
  {
   "cell_type": "code",
   "execution_count": 3,
   "metadata": {},
   "outputs": [
    {
     "data": {
      "text/plain": [
       "array([[0.48764809],\n",
       "       [0.52908516]])"
      ]
     },
     "execution_count": 3,
     "metadata": {},
     "output_type": "execute_result"
    }
   ],
   "source": [
    "# Import python libraries required in this example:\n",
    "import numpy as np\n",
    "from scipy.special import expit as activation_function\n",
    "from scipy.stats import truncnorm\n",
    "\n",
    "# DEFINE THE NETWORK\n",
    "\n",
    "# Generate random numbers within a truncated (bounded) \n",
    "# normal distribution:\n",
    "def truncated_normal(mean=0, sd=1, low=0, upp=10):\n",
    "    return truncnorm(\n",
    "        (low - mean) / sd, (upp - mean) / sd, loc=mean, scale=sd)\n",
    "\n",
    "# Create the ‘Nnetwork’ class and define its arguments:\n",
    "# Set the number of neurons/nodes for each layer\n",
    "# and initialize the weight matrices:  \n",
    "class Nnetwork:\n",
    "\n",
    "    def __init__(self, \n",
    "                 no_of_in_nodes, \n",
    "                 no_of_out_nodes, \n",
    "                 no_of_hidden_nodes,\n",
    "                 learning_rate):\n",
    "        self.no_of_in_nodes = no_of_in_nodes\n",
    "        self.no_of_out_nodes = no_of_out_nodes\n",
    "        self.no_of_hidden_nodes = no_of_hidden_nodes\n",
    "        self.learning_rate = learning_rate \n",
    "        self.create_weight_matrices()\n",
    "        \n",
    "    def create_weight_matrices(self):\n",
    "        \"\"\" A method to initialize the weight matrices of the neural network\"\"\"\n",
    "        rad = 1 / np.sqrt(self.no_of_in_nodes)\n",
    "        X = truncated_normal(mean=0, sd=1, low=-rad, upp=rad)\n",
    "        self.weights_in_hidden = X.rvs((self.no_of_hidden_nodes, \n",
    "                                       self.no_of_in_nodes))\n",
    "        rad = 1 / np.sqrt(self.no_of_hidden_nodes)\n",
    "        X = truncated_normal(mean=0, sd=1, low=-rad, upp=rad)\n",
    "        self.weights_hidden_out = X.rvs((self.no_of_out_nodes, \n",
    "                                        self.no_of_hidden_nodes))\n",
    "\n",
    "    def train(self, input_vector, target_vector):\n",
    "        pass # More work is needed to train the network\n",
    "            \n",
    "    def run(self, input_vector):\n",
    "        \"\"\"\n",
    "        running the network with an input vector 'input_vector'. \n",
    "        'input_vector' can be tuple, list or ndarray\n",
    "        \"\"\"\n",
    "        # Turn the input vector into a column vector:\n",
    "        input_vector = np.array(input_vector, ndmin=2).T\n",
    "        # activation_function() implements the expit function,\n",
    "        # which is an implementation of the sigmoid function:\n",
    "        input_hidden = activation_function(self.weights_in_hidden @   input_vector)\n",
    "        output_vector = activation_function(self.weights_hidden_out @ input_hidden)\n",
    "        return output_vector \n",
    "\n",
    "# RUN THE NETWORK AND GET A RESULT\n",
    "\n",
    "# Initialize an instance of the class:  \n",
    "simple_network = Nnetwork(no_of_in_nodes=2, \n",
    "                               no_of_out_nodes=2, \n",
    "                               no_of_hidden_nodes=4,\n",
    "                               learning_rate=0.6)\n",
    "\n",
    "# Run simple_network for arrays, lists and tuples with shape (2):\n",
    "# and get a result:\n",
    "simple_network.run([(3, 4)])"
   ]
  }
 ],
 "metadata": {
  "interpreter": {
   "hash": "be6f4628c426c520d00ae18c5a6c074786fdc298bf0fed48f49f1bcafb6f231e"
  },
  "kernelspec": {
   "display_name": "Python 3.9.0 64-bit",
   "language": "python",
   "name": "python3"
  },
  "language_info": {
   "codemirror_mode": {
    "name": "ipython",
    "version": 3
   },
   "file_extension": ".py",
   "mimetype": "text/x-python",
   "name": "python",
   "nbconvert_exporter": "python",
   "pygments_lexer": "ipython3",
   "version": "3.9.0"
  },
  "orig_nbformat": 4
 },
 "nbformat": 4,
 "nbformat_minor": 2
}

{
 "cells": [
  {
   "cell_type": "code",
   "execution_count": null,
   "metadata": {},
   "outputs": [],
   "source": [
    "\"\"\"\n",
    "def accuracy(y_pred, y):\n",
    "    '''\n",
    "    This function calculates the accuracy and appends it to the accuracies list\n",
    "    '''\n",
    "    true_predictions = 0\n",
    "    num_of_pred = y_pred.shape[0]\n",
    "    count = 0\n",
    "    \n",
    "    # iterate through the predictions\n",
    "    for i in range(num_of_pred):\n",
    "        \n",
    "        # check predictions against the true values\n",
    "        if (y_pred[i] <= 0.4):\n",
    "            count = 0\n",
    "        else:\n",
    "            count = 1\n",
    "        \n",
    "        # if true, increment true_predictions\n",
    "        if count == y[i]:\n",
    "            true_predictions += 1\n",
    "    \n",
    "    # compute the accuracy\n",
    "    accuracy = true_predictions/num_of_pred\n",
    "    \n",
    "    # return the computed accuracy\n",
    "    return accuracy\n",
    "\n",
    "for j in range(num_iter):\n",
    "    # Do a forward pass through the dataset and compute the loss\n",
    "    y_pred = forward_pass(x_mat_full,W_1,W_2)\n",
    "    loss = loss_fn()\n",
    "    #accurate = accuracy(y_pred,y)\n",
    "    \n",
    "    # Decide on intervals and add on the current loss and accuracy to the respective list\n",
    "    #loss_vals.append(loss)\n",
    "    #accuracies.append(accurate)\n",
    "    \n",
    "    # Update the weights\n",
    "#y_pred\n",
    "loss\n",
    "\"\"\""
   ]
  }
 ],
 "metadata": {
  "language_info": {
   "name": "python"
  },
  "orig_nbformat": 4
 },
 "nbformat": 4,
 "nbformat_minor": 2
}

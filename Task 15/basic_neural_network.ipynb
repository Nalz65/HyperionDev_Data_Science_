{
 "cells": [
  {
   "cell_type": "code",
   "execution_count": 12,
   "metadata": {},
   "outputs": [],
   "source": [
    "# Import python libraries required in this example:\n",
    "import numpy as np\n",
    "from scipy.special import expit as activation_function\n",
    "from scipy.stats import truncnorm"
   ]
  },
  {
   "cell_type": "code",
   "execution_count": 13,
   "metadata": {},
   "outputs": [],
   "source": [
    "# DEFINE THE NETWORK\n",
    "\n",
    "# Generate random numbers within a truncated (bounded) \n",
    "# normal distribution:\n",
    "\n",
    "def truncated_normal(mean=0,sd=1,low=0, upp=10):\n",
    "    return truncnorm(\n",
    "        (low-mean) / sd, (upp - mean) / sd, loc=mean,scale=sd\n",
    "    )\n",
    "\n",
    "# Create the ‘Nnetwork’ class and define its arguments:\n",
    "# Set the number of neurons/nodes for each layer\n",
    "# and initialize the weight matrices: \n",
    "\n",
    "class  Nnetwork:\n",
    "    \n",
    "    def __init__(self, no_of_in_nodes, no_of_out_nodes, no_of_hidden_nodes, learning_rate):\n",
    "        self.no_of_in_nodes = no_of_in_nodes\n",
    "        self.no_of_out_nodes = no_of_out_nodes\n",
    "        self.no_of_hidden_nodes = no_of_hidden_nodes\n",
    "        self.learning_rate = learning_rate\n",
    "        self.create_weight_matrices()\n",
    "\n",
    "    def create_weight_matrices(self):\n",
    "        \"\"\" A method to initialize the weight matrices of the neural network\"\"\"\n",
    "        rad = 1 /  np.sqrt(self.no_of_in_nodes)\n",
    "        X = truncated_normal(mean=0,sd=1,low=-rad,upp=rad)\n",
    "        self.weights_in_hidden = X.rvs((\n",
    "            self.no_of_hidden_nodes,\n",
    "            self.no_of_in_nodes)\n",
    "        )\n",
    "        rad = 1 / np.sqrt(self.no_of_hidden_nodes)\n",
    "        X = truncated_normal(mean=0, sd=1, low=-rad, upp=rad)\n",
    "        self.weights_hidden_out = X.rvs((self.no_of_out_nodes, \n",
    "                                        self.no_of_hidden_nodes))\n",
    "\n",
    "    def train(self, input_vector, target_vector):\n",
    "        pass # More work is needed to train the network\n",
    "\n",
    "    def run(self, input_vector):\n",
    "        \"\"\"\n",
    "        running the network with an input vector 'input_vector'. \n",
    "        'input_vector' can be tuple, list or ndarray\n",
    "        \"\"\"\n",
    "        \n",
    "        # Turn the input vector into a column vector:\n",
    "        input_vector = np.array(input_vector,ndmin=2).T\n",
    "\n",
    "        # activation_function() implements the expit function,\n",
    "        # which is an implementation of the sigmoid function:\n",
    "        input_hidden = activation_function(self.weights_in_hidden @ input_vector)\n",
    "        output_vector = activation_function(self.weights_hidden_out @ input_hidden)\n",
    "        return output_vector"
   ]
  },
  {
   "cell_type": "code",
   "execution_count": 14,
   "metadata": {},
   "outputs": [
    {
     "data": {
      "text/plain": [
       "array([[0.48932709],\n",
       "       [0.46622429]])"
      ]
     },
     "execution_count": 14,
     "metadata": {},
     "output_type": "execute_result"
    }
   ],
   "source": [
    "# RUN THE NETWORK AND GET A RESULT\n",
    "\n",
    "\n",
    "# Initialize an instance of the class: \n",
    "simple_network = Nnetwork(2,2,4,0.6)\n",
    "\n",
    "# Run simple_network for arrays, lists and tuples with shape (2):\n",
    "# and get a result:\n",
    "simple_network.run([(3,4)])"
   ]
  }
 ],
 "metadata": {
  "interpreter": {
   "hash": "be6f4628c426c520d00ae18c5a6c074786fdc298bf0fed48f49f1bcafb6f231e"
  },
  "kernelspec": {
   "display_name": "Python 3.9.0 64-bit",
   "language": "python",
   "name": "python3"
  },
  "language_info": {
   "codemirror_mode": {
    "name": "ipython",
    "version": 3
   },
   "file_extension": ".py",
   "mimetype": "text/x-python",
   "name": "python",
   "nbconvert_exporter": "python",
   "pygments_lexer": "ipython3",
   "version": "3.9.0"
  },
  "orig_nbformat": 4
 },
 "nbformat": 4,
 "nbformat_minor": 2
}
